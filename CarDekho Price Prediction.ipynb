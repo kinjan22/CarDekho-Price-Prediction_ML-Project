{
 "cells": [
  {
   "cell_type": "markdown",
   "id": "96edc74b-677c-4aa9-97ee-d25efec35cbd",
   "metadata": {},
   "source": [
    "# CarDekho Price Prediction"
   ]
  },
  {
   "cell_type": "markdown",
   "id": "223d452a-3b88-4c83-8036-8966ab496f98",
   "metadata": {},
   "source": [
    "#### Problem Statement:\n",
    "The used car market in India is a dynamic and ever-changing landscape. Prices can fluctuate wildly based on a variety of factors including the make and model of the car, its mileage, its condition and the current market conditions. As a result, it can be difficult for sellers to accurately price their cars."
   ]
  },
  {
   "cell_type": "markdown",
   "id": "27041ce1-dc5a-4f3b-9296-bf3016bc7a54",
   "metadata": {},
   "source": [
    "#### Approach:\n",
    "We propose to develop a machine learning model that can predict the price of a used car based on its features. The model will be trained on a dataset of used cars that have been sold on Cardekho.com in India. The model will then be able to be used to predict the price of any used car, given its features."
   ]
  },
  {
   "cell_type": "markdown",
   "id": "548c9181-25f2-4a12-a9e5-02c6481a23f3",
   "metadata": {},
   "source": [
    "* Dataset Overview\n",
    "The dataset contains 14 features, including:\n",
    "\n",
    "* car_name – Name of the car model\n",
    "* brand – Manufacturer of the car\n",
    "* vehicle_age – Age of the car (years)\n",
    "* km_driven – Distance driven by the car (in km)\n",
    "* seller_type – Individual or Dealer\n",
    "* fuel_type – Petrol, Diesel, CNG, etc.\n",
    "* transmission_type – Manual or Automatic\n",
    "* mileage – Fuel efficiency (km per liter)\n",
    "* engine – Engine capacity (cc)\n",
    "* max_power – Maximum power output (bhp)\n",
    "* seats – Number of seats\n",
    "* selling_price – Final selling price of the car (target variable)"
   ]
  },
  {
   "cell_type": "markdown",
   "id": "e4785f8f-af0d-4f2d-8cd1-73cedb0d6629",
   "metadata": {},
   "source": [
    "#### Data Loading & Exploration\n",
    "\n",
    "\n",
    "Load dataset using pandas, \n",
    "Display basic stats using .info() and .describe(), \n",
    "Check for missing values"
   ]
  },
  {
   "cell_type": "code",
   "execution_count": 8,
   "id": "ba79f077-9a66-416a-8020-7bcfb2ea5f7c",
   "metadata": {},
   "outputs": [],
   "source": [
    "import pandas as pd\n",
    "import seaborn as sns\n",
    "import matplotlib as plt\n",
    "import numpy as np\n"
   ]
  },
  {
   "cell_type": "code",
   "execution_count": 9,
   "id": "fe42f4db-f44d-4d4a-b97c-25e37c0bff84",
   "metadata": {},
   "outputs": [
    {
     "name": "stdout",
     "output_type": "stream",
     "text": [
      "       Unnamed: 0         car_name     brand     model  vehicle_age  \\\n",
      "0               0      Maruti Alto    Maruti      Alto            9   \n",
      "1               1    Hyundai Grand   Hyundai     Grand            5   \n",
      "2               2      Hyundai i20   Hyundai       i20           11   \n",
      "3               3      Maruti Alto    Maruti      Alto            9   \n",
      "4               4    Ford Ecosport      Ford  Ecosport            6   \n",
      "...           ...              ...       ...       ...          ...   \n",
      "15406       19537      Hyundai i10   Hyundai       i10            9   \n",
      "15407       19540    Maruti Ertiga    Maruti    Ertiga            2   \n",
      "15408       19541      Skoda Rapid     Skoda     Rapid            6   \n",
      "15409       19542  Mahindra XUV500  Mahindra    XUV500            5   \n",
      "15410       19543       Honda City     Honda      City            2   \n",
      "\n",
      "       km_driven seller_type fuel_type transmission_type  mileage  engine  \\\n",
      "0         120000  Individual    Petrol            Manual    19.70     796   \n",
      "1          20000  Individual    Petrol            Manual    18.90    1197   \n",
      "2          60000  Individual    Petrol            Manual    17.00    1197   \n",
      "3          37000  Individual    Petrol            Manual    20.92     998   \n",
      "4          30000      Dealer    Diesel            Manual    22.77    1498   \n",
      "...          ...         ...       ...               ...      ...     ...   \n",
      "15406      10723      Dealer    Petrol            Manual    19.81    1086   \n",
      "15407      18000      Dealer    Petrol            Manual    17.50    1373   \n",
      "15408      67000      Dealer    Diesel            Manual    21.14    1498   \n",
      "15409    3800000      Dealer    Diesel            Manual    16.00    2179   \n",
      "15410      13000      Dealer    Petrol         Automatic    18.00    1497   \n",
      "\n",
      "       max_power  seats  selling_price  \n",
      "0          46.30      5         120000  \n",
      "1          82.00      5         550000  \n",
      "2          80.00      5         215000  \n",
      "3          67.10      5         226000  \n",
      "4          98.59      5         570000  \n",
      "...          ...    ...            ...  \n",
      "15406      68.05      5         250000  \n",
      "15407      91.10      7         925000  \n",
      "15408     103.52      5         425000  \n",
      "15409     140.00      7        1225000  \n",
      "15410     117.60      5        1200000  \n",
      "\n",
      "[15411 rows x 14 columns]\n"
     ]
    }
   ],
   "source": [
    "dataset =  pd.read_csv(\"cardekho.csv\")\n",
    "print(dataset)"
   ]
  },
  {
   "cell_type": "code",
   "execution_count": 3,
   "id": "9f07dfed-da89-4b7d-9325-9e92f9c41b45",
   "metadata": {},
   "outputs": [
    {
     "name": "stdout",
     "output_type": "stream",
     "text": [
      "<class 'pandas.core.frame.DataFrame'>\n",
      "RangeIndex: 15411 entries, 0 to 15410\n",
      "Data columns (total 14 columns):\n",
      " #   Column             Non-Null Count  Dtype  \n",
      "---  ------             --------------  -----  \n",
      " 0   Unnamed: 0         15411 non-null  int64  \n",
      " 1   car_name           15411 non-null  object \n",
      " 2   brand              15411 non-null  object \n",
      " 3   model              15411 non-null  object \n",
      " 4   vehicle_age        15411 non-null  int64  \n",
      " 5   km_driven          15411 non-null  int64  \n",
      " 6   seller_type        15411 non-null  object \n",
      " 7   fuel_type          15411 non-null  object \n",
      " 8   transmission_type  15411 non-null  object \n",
      " 9   mileage            15411 non-null  float64\n",
      " 10  engine             15411 non-null  int64  \n",
      " 11  max_power          15411 non-null  float64\n",
      " 12  seats              15411 non-null  int64  \n",
      " 13  selling_price      15411 non-null  int64  \n",
      "dtypes: float64(2), int64(6), object(6)\n",
      "memory usage: 1.6+ MB\n"
     ]
    }
   ],
   "source": [
    "dataset.info()"
   ]
  },
  {
   "cell_type": "code",
   "execution_count": 8,
   "id": "ed408888-27a0-44c8-8125-25ae2533193a",
   "metadata": {},
   "outputs": [
    {
     "data": {
      "text/plain": [
       "(15411, 14)"
      ]
     },
     "execution_count": 8,
     "metadata": {},
     "output_type": "execute_result"
    }
   ],
   "source": [
    "dataset.shape"
   ]
  },
  {
   "cell_type": "code",
   "execution_count": 9,
   "id": "5e17af1f-9aa0-40bd-a7fd-b898c26aec66",
   "metadata": {},
   "outputs": [
    {
     "data": {
      "text/html": [
       "<div>\n",
       "<style scoped>\n",
       "    .dataframe tbody tr th:only-of-type {\n",
       "        vertical-align: middle;\n",
       "    }\n",
       "\n",
       "    .dataframe tbody tr th {\n",
       "        vertical-align: top;\n",
       "    }\n",
       "\n",
       "    .dataframe thead th {\n",
       "        text-align: right;\n",
       "    }\n",
       "</style>\n",
       "<table border=\"1\" class=\"dataframe\">\n",
       "  <thead>\n",
       "    <tr style=\"text-align: right;\">\n",
       "      <th></th>\n",
       "      <th>Unnamed: 0</th>\n",
       "      <th>vehicle_age</th>\n",
       "      <th>km_driven</th>\n",
       "      <th>mileage</th>\n",
       "      <th>engine</th>\n",
       "      <th>max_power</th>\n",
       "      <th>seats</th>\n",
       "      <th>selling_price</th>\n",
       "    </tr>\n",
       "  </thead>\n",
       "  <tbody>\n",
       "    <tr>\n",
       "      <th>count</th>\n",
       "      <td>15411.000000</td>\n",
       "      <td>15411.000000</td>\n",
       "      <td>1.541100e+04</td>\n",
       "      <td>15411.000000</td>\n",
       "      <td>15411.000000</td>\n",
       "      <td>15411.000000</td>\n",
       "      <td>15411.000000</td>\n",
       "      <td>1.541100e+04</td>\n",
       "    </tr>\n",
       "    <tr>\n",
       "      <th>mean</th>\n",
       "      <td>9811.857699</td>\n",
       "      <td>6.036338</td>\n",
       "      <td>5.561648e+04</td>\n",
       "      <td>19.701151</td>\n",
       "      <td>1486.057751</td>\n",
       "      <td>100.588254</td>\n",
       "      <td>5.325482</td>\n",
       "      <td>7.749711e+05</td>\n",
       "    </tr>\n",
       "    <tr>\n",
       "      <th>std</th>\n",
       "      <td>5643.418542</td>\n",
       "      <td>3.013291</td>\n",
       "      <td>5.161855e+04</td>\n",
       "      <td>4.171265</td>\n",
       "      <td>521.106696</td>\n",
       "      <td>42.972979</td>\n",
       "      <td>0.807628</td>\n",
       "      <td>8.941284e+05</td>\n",
       "    </tr>\n",
       "    <tr>\n",
       "      <th>min</th>\n",
       "      <td>0.000000</td>\n",
       "      <td>0.000000</td>\n",
       "      <td>1.000000e+02</td>\n",
       "      <td>4.000000</td>\n",
       "      <td>793.000000</td>\n",
       "      <td>38.400000</td>\n",
       "      <td>0.000000</td>\n",
       "      <td>4.000000e+04</td>\n",
       "    </tr>\n",
       "    <tr>\n",
       "      <th>25%</th>\n",
       "      <td>4906.500000</td>\n",
       "      <td>4.000000</td>\n",
       "      <td>3.000000e+04</td>\n",
       "      <td>17.000000</td>\n",
       "      <td>1197.000000</td>\n",
       "      <td>74.000000</td>\n",
       "      <td>5.000000</td>\n",
       "      <td>3.850000e+05</td>\n",
       "    </tr>\n",
       "    <tr>\n",
       "      <th>50%</th>\n",
       "      <td>9872.000000</td>\n",
       "      <td>6.000000</td>\n",
       "      <td>5.000000e+04</td>\n",
       "      <td>19.670000</td>\n",
       "      <td>1248.000000</td>\n",
       "      <td>88.500000</td>\n",
       "      <td>5.000000</td>\n",
       "      <td>5.560000e+05</td>\n",
       "    </tr>\n",
       "    <tr>\n",
       "      <th>75%</th>\n",
       "      <td>14668.500000</td>\n",
       "      <td>8.000000</td>\n",
       "      <td>7.000000e+04</td>\n",
       "      <td>22.700000</td>\n",
       "      <td>1582.000000</td>\n",
       "      <td>117.300000</td>\n",
       "      <td>5.000000</td>\n",
       "      <td>8.250000e+05</td>\n",
       "    </tr>\n",
       "    <tr>\n",
       "      <th>max</th>\n",
       "      <td>19543.000000</td>\n",
       "      <td>29.000000</td>\n",
       "      <td>3.800000e+06</td>\n",
       "      <td>33.540000</td>\n",
       "      <td>6592.000000</td>\n",
       "      <td>626.000000</td>\n",
       "      <td>9.000000</td>\n",
       "      <td>3.950000e+07</td>\n",
       "    </tr>\n",
       "  </tbody>\n",
       "</table>\n",
       "</div>"
      ],
      "text/plain": [
       "         Unnamed: 0   vehicle_age     km_driven       mileage        engine  \\\n",
       "count  15411.000000  15411.000000  1.541100e+04  15411.000000  15411.000000   \n",
       "mean    9811.857699      6.036338  5.561648e+04     19.701151   1486.057751   \n",
       "std     5643.418542      3.013291  5.161855e+04      4.171265    521.106696   \n",
       "min        0.000000      0.000000  1.000000e+02      4.000000    793.000000   \n",
       "25%     4906.500000      4.000000  3.000000e+04     17.000000   1197.000000   \n",
       "50%     9872.000000      6.000000  5.000000e+04     19.670000   1248.000000   \n",
       "75%    14668.500000      8.000000  7.000000e+04     22.700000   1582.000000   \n",
       "max    19543.000000     29.000000  3.800000e+06     33.540000   6592.000000   \n",
       "\n",
       "          max_power         seats  selling_price  \n",
       "count  15411.000000  15411.000000   1.541100e+04  \n",
       "mean     100.588254      5.325482   7.749711e+05  \n",
       "std       42.972979      0.807628   8.941284e+05  \n",
       "min       38.400000      0.000000   4.000000e+04  \n",
       "25%       74.000000      5.000000   3.850000e+05  \n",
       "50%       88.500000      5.000000   5.560000e+05  \n",
       "75%      117.300000      5.000000   8.250000e+05  \n",
       "max      626.000000      9.000000   3.950000e+07  "
      ]
     },
     "execution_count": 9,
     "metadata": {},
     "output_type": "execute_result"
    }
   ],
   "source": [
    "dataset.describe()"
   ]
  },
  {
   "cell_type": "code",
   "execution_count": 6,
   "id": "65205139-0f04-40a9-a71f-57bd9439895a",
   "metadata": {},
   "outputs": [
    {
     "data": {
      "text/plain": [
       "Unnamed: 0           0\n",
       "car_name             0\n",
       "brand                0\n",
       "model                0\n",
       "vehicle_age          0\n",
       "km_driven            0\n",
       "seller_type          0\n",
       "fuel_type            0\n",
       "transmission_type    0\n",
       "mileage              0\n",
       "engine               0\n",
       "max_power            0\n",
       "seats                0\n",
       "selling_price        0\n",
       "dtype: int64"
      ]
     },
     "execution_count": 6,
     "metadata": {},
     "output_type": "execute_result"
    }
   ],
   "source": [
    "dataset.isnull().sum()"
   ]
  },
  {
   "cell_type": "code",
   "execution_count": 15,
   "id": "62ebf9f0-f05a-4ee5-9f7b-91751d78a194",
   "metadata": {},
   "outputs": [
    {
     "data": {
      "text/plain": [
       "array(['Maruti Alto', 'Hyundai Grand', 'Hyundai i20', 'Ford Ecosport',\n",
       "       'Maruti Wagon R', 'Hyundai i10', 'Hyundai Venue', 'Maruti Swift',\n",
       "       'Hyundai Verna', 'Renault Duster', 'Mini Cooper', 'Maruti Ciaz',\n",
       "       'Mercedes-Benz C-Class', 'Toyota Innova', 'Maruti Baleno',\n",
       "       'Maruti Swift Dzire', 'Volkswagen Vento', 'Hyundai Creta',\n",
       "       'Honda City', 'Mahindra Bolero', 'Toyota Fortuner', 'Renault KWID',\n",
       "       'Honda Amaze', 'Hyundai Santro', 'Mahindra XUV500',\n",
       "       'Mahindra KUV100', 'Maruti Ignis', 'Datsun RediGO',\n",
       "       'Mahindra Scorpio', 'Mahindra Marazzo', 'Ford Aspire', 'Ford Figo',\n",
       "       'Maruti Vitara', 'Tata Tiago', 'Volkswagen Polo', 'Kia Seltos',\n",
       "       'Maruti Celerio', 'Datsun GO', 'BMW 5', 'Honda CR-V',\n",
       "       'Ford Endeavour', 'Mahindra KUV', 'Honda Jazz', 'BMW 3', 'Audi A4',\n",
       "       'Tata Tigor', 'Maruti Ertiga', 'Tata Safari', 'Mahindra Thar',\n",
       "       'Tata Hexa', 'Land Rover Rover', 'Maruti Eeco', 'Audi A6',\n",
       "       'Mercedes-Benz E-Class', 'Audi Q7', 'BMW Z4', 'BMW 6', 'Jaguar XF',\n",
       "       'BMW X5', 'MG Hector', 'Honda Civic', 'Isuzu D-Max',\n",
       "       'Porsche Cayenne', 'BMW X1', 'Skoda Rapid', 'Ford Freestyle',\n",
       "       'Skoda Superb', 'Tata Nexon', 'Mahindra XUV300',\n",
       "       'Maruti Dzire VXI', 'Volvo S90', 'Honda WR-V', 'Maruti XL6',\n",
       "       'Renault Triber', 'Lexus ES', 'Jeep Wrangler', 'Toyota Camry',\n",
       "       'Hyundai Elantra', 'Toyota Yaris', 'Mercedes-Benz GL-Class',\n",
       "       'BMW 7', 'Maruti S-Presso', 'Maruti Dzire LXI', 'Hyundai Aura',\n",
       "       'Volvo XC', 'Maserati Ghibli', 'Bentley Continental', 'Honda CR',\n",
       "       'Nissan Kicks', 'Mercedes-Benz S-Class', 'Hyundai Tucson',\n",
       "       'Tata Harrier', 'BMW X3', 'Skoda Octavia', 'Jeep Compass',\n",
       "       'Mercedes-Benz CLS', 'Datsun redi-GO', 'Toyota Glanza',\n",
       "       'Porsche Macan', 'BMW X4', 'Maruti Dzire ZXI', 'Volvo XC90',\n",
       "       'Jaguar F-PACE', 'Audi A8', 'ISUZU MUX', 'Ferrari GTC4Lusso',\n",
       "       'Mercedes-Benz GLS', 'Nissan X-Trail', 'Jaguar XE', 'Volvo XC60',\n",
       "       'Porsche Panamera', 'Mahindra Alturas', 'Tata Altroz', 'Lexus NX',\n",
       "       'Kia Carnival', 'Mercedes-AMG C', 'Lexus RX', 'Rolls-Royce Ghost',\n",
       "       'Maserati Quattroporte', 'Isuzu MUX', 'Force Gurkha'], dtype=object)"
      ]
     },
     "execution_count": 15,
     "metadata": {},
     "output_type": "execute_result"
    }
   ],
   "source": [
    "dataset[\"car_name\"].unique()"
   ]
  },
  {
   "cell_type": "code",
   "execution_count": 14,
   "id": "85640d6f-9a30-4281-af2f-79b5e8310ceb",
   "metadata": {},
   "outputs": [
    {
     "data": {
      "text/plain": [
       "121"
      ]
     },
     "execution_count": 14,
     "metadata": {},
     "output_type": "execute_result"
    }
   ],
   "source": [
    "dataset[\"car_name\"].nunique()"
   ]
  },
  {
   "cell_type": "code",
   "execution_count": null,
   "id": "24b6b406-54a1-4370-b643-075e412721f0",
   "metadata": {},
   "outputs": [],
   "source": [
    "# which car is being sold the most on the platform ?"
   ]
  },
  {
   "cell_type": "code",
   "execution_count": 12,
   "id": "70849986-4a22-4454-b864-d33ff85403dc",
   "metadata": {},
   "outputs": [
    {
     "data": {
      "text/plain": [
       "car_name\n",
       "Hyundai i20              5.878918\n",
       "Maruti Swift Dzire       5.775096\n",
       "Maruti Swift             5.067809\n",
       "Maruti Alto              5.048342\n",
       "Honda City               4.912076\n",
       "                           ...   \n",
       "Mercedes-AMG C           0.006489\n",
       "Rolls-Royce Ghost        0.006489\n",
       "Maserati Quattroporte    0.006489\n",
       "Isuzu MUX                0.006489\n",
       "Force Gurkha             0.006489\n",
       "Name: proportion, Length: 121, dtype: float64"
      ]
     },
     "execution_count": 12,
     "metadata": {},
     "output_type": "execute_result"
    }
   ],
   "source": [
    "dataset['car_name'].value_counts(normalize = True)*100"
   ]
  },
  {
   "cell_type": "markdown",
   "id": "ffa43a97-6df5-44cb-8f68-6eee37423bc0",
   "metadata": {},
   "source": [
    "## Exploratory Data Analysis (EDA)"
   ]
  },
  {
   "cell_type": "markdown",
   "id": "d0ed6484-3ceb-42f0-9703-75027f74cf52",
   "metadata": {},
   "source": [
    "## Univariate Analysis (Individual Feature Exploration)"
   ]
  },
  {
   "cell_type": "markdown",
   "id": "a465a82d-2506-4581-b830-9fa177768000",
   "metadata": {},
   "source": [
    "* Visualize mileage, vehicle age, selling price, and km driven using KDE (Kernel Density Estimation) plots."
   ]
  },
  {
   "cell_type": "code",
   "execution_count": 20,
   "id": "b6450b6e-41b4-4668-9ba1-3d107c9e8e27",
   "metadata": {},
   "outputs": [
    {
     "data": {
      "text/plain": [
       "<Axes: xlabel='mileage', ylabel='Density'>"
      ]
     },
     "execution_count": 20,
     "metadata": {},
     "output_type": "execute_result"
    },
    {
     "data": {
      "image/png": "[encoded data removed]",
      "text/plain": [
       "<Figure size 640x480 with 1 Axes>"
      ]
     },
     "metadata": {},
     "output_type": "display_data"
    }
   ],
   "source": [
    "sns.kdeplot( x= dataset[\"mileage\"],color = \"b\")"
   ]
  },
  {
   "cell_type": "code",
   "execution_count": 10,
   "id": "badf1be9-1849-4e54-86b7-03c297bb1378",
   "metadata": {},
   "outputs": [
    {
     "data": {
      "text/plain": [
       "<Axes: xlabel='mileage', ylabel='Density'>"
      ]
     },
     "execution_count": 10,
     "metadata": {},
     "output_type": "execute_result"
    },
    {
     "data": {
      "image/png": "[encoded data removed]",
      "text/plain": [
       "<Figure size 640x480 with 1 Axes>"
      ]
     },
     "metadata": {},
     "output_type": "display_data"
    }
   ],
   "source": [
    "sns.kdeplot( x= dataset[\"mileage\"], fill =\"true\")"
   ]
  },
  {
   "cell_type": "code",
   "execution_count": 24,
   "id": "3ad63f09-7d33-445b-b364-e844a1b1cdbb",
   "metadata": {},
   "outputs": [
    {
     "data": {
      "text/plain": [
       "<Axes: xlabel='selling_price', ylabel='Density'>"
      ]
     },
     "execution_count": 24,
     "metadata": {},
     "output_type": "execute_result"
    },
    {
     "data": {
      "image/png": "[encoded data removed]",
      "text/plain": [
       "<Figure size 640x480 with 1 Axes>"
      ]
     },
     "metadata": {},
     "output_type": "display_data"
    }
   ],
   "source": [
    "sns.kdeplot( x= dataset[\"selling_price\"],color = \"b\")"
   ]
  },
  {
   "cell_type": "code",
   "execution_count": 25,
   "id": "d9f24403-de66-4913-a956-5eebe7b59680",
   "metadata": {},
   "outputs": [
    {
     "data": {
      "text/plain": [
       "<Axes: xlabel='km_driven', ylabel='Density'>"
      ]
     },
     "execution_count": 25,
     "metadata": {},
     "output_type": "execute_result"
    },
    {
     "data": {
      "image/png": "[encoded data removed]",
      "text/plain": [
       "<Figure size 640x480 with 1 Axes>"
      ]
     },
     "metadata": {},
     "output_type": "display_data"
    }
   ],
   "source": [
    "sns.kdeplot( x= dataset[\"km_driven\"],color = \"b\")"
   ]
  },
  {
   "cell_type": "code",
   "execution_count": 13,
   "id": "f1ee79ef-8015-4057-b116-041b0e3c5cf1",
   "metadata": {},
   "outputs": [
    {
     "data": {
      "text/plain": [
       "<Axes: xlabel='vehicle_age', ylabel='Density'>"
      ]
     },
     "execution_count": 13,
     "metadata": {},
     "output_type": "execute_result"
    },
    {
     "data": {
      "image/png": "[encoded data removed]",
      "text/plain": [
       "<Figure size 640x480 with 1 Axes>"
      ]
     },
     "metadata": {},
     "output_type": "display_data"
    }
   ],
   "source": [
    "sns.kdeplot( x= dataset[\"vehicle_age\"],color = \"b\")"
   ]
  },
  {
   "cell_type": "markdown",
   "id": "b6e52500-f426-46da-a225-284615664d47",
   "metadata": {},
   "source": [
    "Insights\n",
    "\n",
    "* Most cars have mileage between 15-22 km/l.\n",
    "* Most cars are between 4-8 years old.\n",
    "* Selling price varies widely, with most cars priced under ₹10 lakh."
   ]
  },
  {
   "cell_type": "markdown",
   "id": "58de8309-57a1-45d3-ac68-c5890d961bbe",
   "metadata": {},
   "source": [
    "## Bivariate Analysis"
   ]
  },
  {
   "cell_type": "markdown",
   "id": "425314bd-390a-42c6-9fca-52a6f84322b7",
   "metadata": {},
   "source": [
    "#### Scatter plots to visualize relationships between features."
   ]
  },
  {
   "cell_type": "code",
   "execution_count": 15,
   "id": "2fa5576a-67d3-4db9-860b-2fb6e4c23e76",
   "metadata": {},
   "outputs": [
    {
     "data": {
      "text/plain": [
       "<Axes: xlabel='vehicle_age', ylabel='selling_price'>"
      ]
     },
     "execution_count": 15,
     "metadata": {},
     "output_type": "execute_result"
    },
    {
     "data": {
      "image/png": "[encoded data removed]",
      "text/plain": [
       "<Figure size 640x480 with 1 Axes>"
      ]
     },
     "metadata": {},
     "output_type": "display_data"
    }
   ],
   "source": [
    "sns.scatterplot(data = dataset, x = \"vehicle_age\", y = \"selling_price\",color = \"b\")"
   ]
  },
  {
   "cell_type": "code",
   "execution_count": 17,
   "id": "f2c9f64a-6764-4499-991f-dc1bfce28001",
   "metadata": {},
   "outputs": [
    {
     "data": {
      "text/plain": [
       "<Axes: xlabel='mileage', ylabel='selling_price'>"
      ]
     },
     "execution_count": 17,
     "metadata": {},
     "output_type": "execute_result"
    },
    {
     "data": {
      "image/png": "[encoded data removed]",
      "text/plain": [
       "<Figure size 640x480 with 1 Axes>"
      ]
     },
     "metadata": {},
     "output_type": "display_data"
    }
   ],
   "source": [
    "sns.scatterplot(data = dataset, x = \"mileage\", y = \"selling_price\",color = \"b\")"
   ]
  },
  {
   "cell_type": "code",
   "execution_count": 18,
   "id": "a54b0d50-0930-4ef4-951f-a06f955e60f4",
   "metadata": {},
   "outputs": [
    {
     "data": {
      "text/plain": [
       "<Axes: xlabel='max_power', ylabel='selling_price'>"
      ]
     },
     "execution_count": 18,
     "metadata": {},
     "output_type": "execute_result"
    },
    {
     "data": {
      "image/png": "[encoded data removed]",
      "text/plain": [
       "<Figure size 640x480 with 1 Axes>"
      ]
     },
     "metadata": {},
     "output_type": "display_data"
    }
   ],
   "source": [
    "sns.scatterplot(data = dataset, x = \"max_power\", y = \"selling_price\",color = \"b\")"
   ]
  },
  {
   "cell_type": "markdown",
   "id": "c26d6b05-c08f-4c3e-8af4-eca03d51bc74",
   "metadata": {},
   "source": [
    "Key Insights from Scatter Plots\n",
    "\n",
    "* Older cars have lower selling prices (Negative correlation between vehicle_age and selling_price).\n",
    "* Higher mileage does not always mean a higher price – premium brands may have lower mileage but still command higher prices.\n",
    "* Cars with more power (max_power) tend to have higher selling prices."
   ]
  },
  {
   "cell_type": "markdown",
   "id": "4059b528-eb68-415f-97df-fd8bd93e52f9",
   "metadata": {},
   "source": [
    "## Multivariate Analysis"
   ]
  },
  {
   "cell_type": "markdown",
   "id": "a7a1ecd5-e4d3-4f47-9a2b-3e0563af92e1",
   "metadata": {},
   "source": [
    "#### Use Heatmap (Seaborn) to visualize correlations."
   ]
  },
  {
   "cell_type": "code",
   "execution_count": 27,
   "id": "c8e8cdf9-d9e2-4bb6-8b46-8c1d88918456",
   "metadata": {},
   "outputs": [
    {
     "data": {
      "text/html": [
       "<div>\n",
       "<style scoped>\n",
       "    .dataframe tbody tr th:only-of-type {\n",
       "        vertical-align: middle;\n",
       "    }\n",
       "\n",
       "    .dataframe tbody tr th {\n",
       "        vertical-align: top;\n",
       "    }\n",
       "\n",
       "    .dataframe thead th {\n",
       "        text-align: right;\n",
       "    }\n",
       "</style>\n",
       "<table border=\"1\" class=\"dataframe\">\n",
       "  <thead>\n",
       "    <tr style=\"text-align: right;\">\n",
       "      <th></th>\n",
       "      <th>Unnamed: 0</th>\n",
       "      <th>car_name</th>\n",
       "      <th>brand</th>\n",
       "      <th>model</th>\n",
       "      <th>vehicle_age</th>\n",
       "      <th>km_driven</th>\n",
       "      <th>seller_type</th>\n",
       "      <th>fuel_type</th>\n",
       "      <th>transmission_type</th>\n",
       "      <th>mileage</th>\n",
       "      <th>engine</th>\n",
       "      <th>max_power</th>\n",
       "      <th>seats</th>\n",
       "      <th>selling_price</th>\n",
       "    </tr>\n",
       "  </thead>\n",
       "  <tbody>\n",
       "    <tr>\n",
       "      <th>0</th>\n",
       "      <td>0</td>\n",
       "      <td>Maruti Alto</td>\n",
       "      <td>Maruti</td>\n",
       "      <td>Alto</td>\n",
       "      <td>9</td>\n",
       "      <td>120000</td>\n",
       "      <td>Individual</td>\n",
       "      <td>Petrol</td>\n",
       "      <td>Manual</td>\n",
       "      <td>19.70</td>\n",
       "      <td>796</td>\n",
       "      <td>46.30</td>\n",
       "      <td>5</td>\n",
       "      <td>120000</td>\n",
       "    </tr>\n",
       "    <tr>\n",
       "      <th>1</th>\n",
       "      <td>1</td>\n",
       "      <td>Hyundai Grand</td>\n",
       "      <td>Hyundai</td>\n",
       "      <td>Grand</td>\n",
       "      <td>5</td>\n",
       "      <td>20000</td>\n",
       "      <td>Individual</td>\n",
       "      <td>Petrol</td>\n",
       "      <td>Manual</td>\n",
       "      <td>18.90</td>\n",
       "      <td>1197</td>\n",
       "      <td>82.00</td>\n",
       "      <td>5</td>\n",
       "      <td>550000</td>\n",
       "    </tr>\n",
       "    <tr>\n",
       "      <th>2</th>\n",
       "      <td>2</td>\n",
       "      <td>Hyundai i20</td>\n",
       "      <td>Hyundai</td>\n",
       "      <td>i20</td>\n",
       "      <td>11</td>\n",
       "      <td>60000</td>\n",
       "      <td>Individual</td>\n",
       "      <td>Petrol</td>\n",
       "      <td>Manual</td>\n",
       "      <td>17.00</td>\n",
       "      <td>1197</td>\n",
       "      <td>80.00</td>\n",
       "      <td>5</td>\n",
       "      <td>215000</td>\n",
       "    </tr>\n",
       "    <tr>\n",
       "      <th>3</th>\n",
       "      <td>3</td>\n",
       "      <td>Maruti Alto</td>\n",
       "      <td>Maruti</td>\n",
       "      <td>Alto</td>\n",
       "      <td>9</td>\n",
       "      <td>37000</td>\n",
       "      <td>Individual</td>\n",
       "      <td>Petrol</td>\n",
       "      <td>Manual</td>\n",
       "      <td>20.92</td>\n",
       "      <td>998</td>\n",
       "      <td>67.10</td>\n",
       "      <td>5</td>\n",
       "      <td>226000</td>\n",
       "    </tr>\n",
       "    <tr>\n",
       "      <th>4</th>\n",
       "      <td>4</td>\n",
       "      <td>Ford Ecosport</td>\n",
       "      <td>Ford</td>\n",
       "      <td>Ecosport</td>\n",
       "      <td>6</td>\n",
       "      <td>30000</td>\n",
       "      <td>Dealer</td>\n",
       "      <td>Diesel</td>\n",
       "      <td>Manual</td>\n",
       "      <td>22.77</td>\n",
       "      <td>1498</td>\n",
       "      <td>98.59</td>\n",
       "      <td>5</td>\n",
       "      <td>570000</td>\n",
       "    </tr>\n",
       "  </tbody>\n",
       "</table>\n",
       "</div>"
      ],
      "text/plain": [
       "   Unnamed: 0       car_name    brand     model  vehicle_age  km_driven  \\\n",
       "0           0    Maruti Alto   Maruti      Alto            9     120000   \n",
       "1           1  Hyundai Grand  Hyundai     Grand            5      20000   \n",
       "2           2    Hyundai i20  Hyundai       i20           11      60000   \n",
       "3           3    Maruti Alto   Maruti      Alto            9      37000   \n",
       "4           4  Ford Ecosport     Ford  Ecosport            6      30000   \n",
       "\n",
       "  seller_type fuel_type transmission_type  mileage  engine  max_power  seats  \\\n",
       "0  Individual    Petrol            Manual    19.70     796      46.30      5   \n",
       "1  Individual    Petrol            Manual    18.90    1197      82.00      5   \n",
       "2  Individual    Petrol            Manual    17.00    1197      80.00      5   \n",
       "3  Individual    Petrol            Manual    20.92     998      67.10      5   \n",
       "4      Dealer    Diesel            Manual    22.77    1498      98.59      5   \n",
       "\n",
       "   selling_price  \n",
       "0         120000  \n",
       "1         550000  \n",
       "2         215000  \n",
       "3         226000  \n",
       "4         570000  "
      ]
     },
     "execution_count": 27,
     "metadata": {},
     "output_type": "execute_result"
    }
   ],
   "source": [
    "\n",
    "dataset.head()"
   ]
  },
  {
   "cell_type": "code",
   "execution_count": 10,
   "id": "81d1f0ea-5975-4d9c-927b-9fca847d0f22",
   "metadata": {},
   "outputs": [],
   "source": [
    "numerical_variables = ['vehicle_age', 'km_driven', 'mileage','engine','max_power','seats','selling_price']"
   ]
  },
  {
   "cell_type": "code",
   "execution_count": 11,
   "id": "aadcd0fc-ab6c-4265-82e8-04e0d89758bf",
   "metadata": {},
   "outputs": [
    {
     "data": {
      "text/plain": [
       "<Axes: >"
      ]
     },
     "execution_count": 11,
     "metadata": {},
     "output_type": "execute_result"
    },
    {
     "data": {
      "image/png": "[encoded data removed]",
      "text/plain": [
       "<Figure size 640x480 with 2 Axes>"
      ]
     },
     "metadata": {},
     "output_type": "display_data"
    }
   ],
   "source": [
    "sns.heatmap(data = dataset[numerical_variables].corr() , annot = True, cmap = 'plasma' , linewidth = 2)"
   ]
  },
  {
   "cell_type": "markdown",
   "id": "ab3dbd94-1a5a-4843-8983-e099fe3eec1c",
   "metadata": {},
   "source": [
    "Insights\n",
    "\n",
    "* Engine size, max power, and selling price are strongly correlated.\n",
    "* Vehicle age negatively impacts selling price – older cars sell for less.\n",
    "* No strong correlation between fuel type and price – fuel type alone doesn’t determine car value."
   ]
  },
  {
   "cell_type": "markdown",
   "id": "95e8b5ec-6484-4e54-bbd5-073edb1a7904",
   "metadata": {},
   "source": [
    "### Feature Engineering\n",
    "\n",
    " "
   ]
  },
  {
   "cell_type": "markdown",
   "id": "162e9719-f3c5-413d-91de-c8d46336ec3c",
   "metadata": {},
   "source": [
    "* Remove unnecessary columns (Unnamed: 0, car_name, brand, model, seller_type).\n",
    "* Convert categorical values (fuel_type, transmission_type) into numerical format using one-hot encoding (pd.get_dummies())."
   ]
  },
  {
   "cell_type": "code",
   "execution_count": 23,
   "id": "d82a5a44-ed05-4b48-99d1-d11e229c306a",
   "metadata": {},
   "outputs": [
    {
     "data": {
      "text/html": [
       "<div>\n",
       "<style scoped>\n",
       "    .dataframe tbody tr th:only-of-type {\n",
       "        vertical-align: middle;\n",
       "    }\n",
       "\n",
       "    .dataframe tbody tr th {\n",
       "        vertical-align: top;\n",
       "    }\n",
       "\n",
       "    .dataframe thead th {\n",
       "        text-align: right;\n",
       "    }\n",
       "</style>\n",
       "<table border=\"1\" class=\"dataframe\">\n",
       "  <thead>\n",
       "    <tr style=\"text-align: right;\">\n",
       "      <th></th>\n",
       "      <th>vehicle_age</th>\n",
       "      <th>km_driven</th>\n",
       "      <th>fuel_type</th>\n",
       "      <th>transmission_type</th>\n",
       "      <th>mileage</th>\n",
       "      <th>engine</th>\n",
       "      <th>max_power</th>\n",
       "      <th>seats</th>\n",
       "    </tr>\n",
       "  </thead>\n",
       "  <tbody>\n",
       "    <tr>\n",
       "      <th>0</th>\n",
       "      <td>9</td>\n",
       "      <td>120000</td>\n",
       "      <td>Petrol</td>\n",
       "      <td>Manual</td>\n",
       "      <td>19.70</td>\n",
       "      <td>796</td>\n",
       "      <td>46.30</td>\n",
       "      <td>5</td>\n",
       "    </tr>\n",
       "    <tr>\n",
       "      <th>1</th>\n",
       "      <td>5</td>\n",
       "      <td>20000</td>\n",
       "      <td>Petrol</td>\n",
       "      <td>Manual</td>\n",
       "      <td>18.90</td>\n",
       "      <td>1197</td>\n",
       "      <td>82.00</td>\n",
       "      <td>5</td>\n",
       "    </tr>\n",
       "    <tr>\n",
       "      <th>2</th>\n",
       "      <td>11</td>\n",
       "      <td>60000</td>\n",
       "      <td>Petrol</td>\n",
       "      <td>Manual</td>\n",
       "      <td>17.00</td>\n",
       "      <td>1197</td>\n",
       "      <td>80.00</td>\n",
       "      <td>5</td>\n",
       "    </tr>\n",
       "    <tr>\n",
       "      <th>3</th>\n",
       "      <td>9</td>\n",
       "      <td>37000</td>\n",
       "      <td>Petrol</td>\n",
       "      <td>Manual</td>\n",
       "      <td>20.92</td>\n",
       "      <td>998</td>\n",
       "      <td>67.10</td>\n",
       "      <td>5</td>\n",
       "    </tr>\n",
       "    <tr>\n",
       "      <th>4</th>\n",
       "      <td>6</td>\n",
       "      <td>30000</td>\n",
       "      <td>Diesel</td>\n",
       "      <td>Manual</td>\n",
       "      <td>22.77</td>\n",
       "      <td>1498</td>\n",
       "      <td>98.59</td>\n",
       "      <td>5</td>\n",
       "    </tr>\n",
       "    <tr>\n",
       "      <th>...</th>\n",
       "      <td>...</td>\n",
       "      <td>...</td>\n",
       "      <td>...</td>\n",
       "      <td>...</td>\n",
       "      <td>...</td>\n",
       "      <td>...</td>\n",
       "      <td>...</td>\n",
       "      <td>...</td>\n",
       "    </tr>\n",
       "    <tr>\n",
       "      <th>15406</th>\n",
       "      <td>9</td>\n",
       "      <td>10723</td>\n",
       "      <td>Petrol</td>\n",
       "      <td>Manual</td>\n",
       "      <td>19.81</td>\n",
       "      <td>1086</td>\n",
       "      <td>68.05</td>\n",
       "      <td>5</td>\n",
       "    </tr>\n",
       "    <tr>\n",
       "      <th>15407</th>\n",
       "      <td>2</td>\n",
       "      <td>18000</td>\n",
       "      <td>Petrol</td>\n",
       "      <td>Manual</td>\n",
       "      <td>17.50</td>\n",
       "      <td>1373</td>\n",
       "      <td>91.10</td>\n",
       "      <td>7</td>\n",
       "    </tr>\n",
       "    <tr>\n",
       "      <th>15408</th>\n",
       "      <td>6</td>\n",
       "      <td>67000</td>\n",
       "      <td>Diesel</td>\n",
       "      <td>Manual</td>\n",
       "      <td>21.14</td>\n",
       "      <td>1498</td>\n",
       "      <td>103.52</td>\n",
       "      <td>5</td>\n",
       "    </tr>\n",
       "    <tr>\n",
       "      <th>15409</th>\n",
       "      <td>5</td>\n",
       "      <td>3800000</td>\n",
       "      <td>Diesel</td>\n",
       "      <td>Manual</td>\n",
       "      <td>16.00</td>\n",
       "      <td>2179</td>\n",
       "      <td>140.00</td>\n",
       "      <td>7</td>\n",
       "    </tr>\n",
       "    <tr>\n",
       "      <th>15410</th>\n",
       "      <td>2</td>\n",
       "      <td>13000</td>\n",
       "      <td>Petrol</td>\n",
       "      <td>Automatic</td>\n",
       "      <td>18.00</td>\n",
       "      <td>1497</td>\n",
       "      <td>117.60</td>\n",
       "      <td>5</td>\n",
       "    </tr>\n",
       "  </tbody>\n",
       "</table>\n",
       "<p>15411 rows × 8 columns</p>\n",
       "</div>"
      ],
      "text/plain": [
       "       vehicle_age  km_driven fuel_type transmission_type  mileage  engine  \\\n",
       "0                9     120000    Petrol            Manual    19.70     796   \n",
       "1                5      20000    Petrol            Manual    18.90    1197   \n",
       "2               11      60000    Petrol            Manual    17.00    1197   \n",
       "3                9      37000    Petrol            Manual    20.92     998   \n",
       "4                6      30000    Diesel            Manual    22.77    1498   \n",
       "...            ...        ...       ...               ...      ...     ...   \n",
       "15406            9      10723    Petrol            Manual    19.81    1086   \n",
       "15407            2      18000    Petrol            Manual    17.50    1373   \n",
       "15408            6      67000    Diesel            Manual    21.14    1498   \n",
       "15409            5    3800000    Diesel            Manual    16.00    2179   \n",
       "15410            2      13000    Petrol         Automatic    18.00    1497   \n",
       "\n",
       "       max_power  seats  \n",
       "0          46.30      5  \n",
       "1          82.00      5  \n",
       "2          80.00      5  \n",
       "3          67.10      5  \n",
       "4          98.59      5  \n",
       "...          ...    ...  \n",
       "15406      68.05      5  \n",
       "15407      91.10      7  \n",
       "15408     103.52      5  \n",
       "15409     140.00      7  \n",
       "15410     117.60      5  \n",
       "\n",
       "[15411 rows x 8 columns]"
      ]
     },
     "execution_count": 23,
     "metadata": {},
     "output_type": "execute_result"
    }
   ],
   "source": [
    "model_data = dataset.copy()\n",
    "\n",
    "model_data.drop(labels = ['Unnamed: 0','car_name','brand','model','seller_type','selling_price'], axis = 1, inplace = True)\n",
    "model_data"
   ]
  },
  {
   "cell_type": "code",
   "execution_count": null,
   "id": "d097c252-2380-48b8-b63f-af1cf44153aa",
   "metadata": {},
   "outputs": [],
   "source": [
    "# convert categorical values into numerical columns by dummies"
   ]
  },
  {
   "cell_type": "code",
   "execution_count": 24,
   "id": "7c46f780-5652-4e51-b2b3-24aae1b4beca",
   "metadata": {},
   "outputs": [
    {
     "data": {
      "text/html": [
       "<div>\n",
       "<style scoped>\n",
       "    .dataframe tbody tr th:only-of-type {\n",
       "        vertical-align: middle;\n",
       "    }\n",
       "\n",
       "    .dataframe tbody tr th {\n",
       "        vertical-align: top;\n",
       "    }\n",
       "\n",
       "    .dataframe thead th {\n",
       "        text-align: right;\n",
       "    }\n",
       "</style>\n",
       "<table border=\"1\" class=\"dataframe\">\n",
       "  <thead>\n",
       "    <tr style=\"text-align: right;\">\n",
       "      <th></th>\n",
       "      <th>vehicle_age</th>\n",
       "      <th>km_driven</th>\n",
       "      <th>mileage</th>\n",
       "      <th>engine</th>\n",
       "      <th>max_power</th>\n",
       "      <th>seats</th>\n",
       "      <th>fuel_type_CNG</th>\n",
       "      <th>fuel_type_Diesel</th>\n",
       "      <th>fuel_type_Electric</th>\n",
       "      <th>fuel_type_LPG</th>\n",
       "      <th>fuel_type_Petrol</th>\n",
       "      <th>transmission_type_Automatic</th>\n",
       "      <th>transmission_type_Manual</th>\n",
       "    </tr>\n",
       "  </thead>\n",
       "  <tbody>\n",
       "    <tr>\n",
       "      <th>0</th>\n",
       "      <td>9</td>\n",
       "      <td>120000</td>\n",
       "      <td>19.70</td>\n",
       "      <td>796</td>\n",
       "      <td>46.30</td>\n",
       "      <td>5</td>\n",
       "      <td>0.0</td>\n",
       "      <td>0.0</td>\n",
       "      <td>0.0</td>\n",
       "      <td>0.0</td>\n",
       "      <td>1.0</td>\n",
       "      <td>0.0</td>\n",
       "      <td>1.0</td>\n",
       "    </tr>\n",
       "    <tr>\n",
       "      <th>1</th>\n",
       "      <td>5</td>\n",
       "      <td>20000</td>\n",
       "      <td>18.90</td>\n",
       "      <td>1197</td>\n",
       "      <td>82.00</td>\n",
       "      <td>5</td>\n",
       "      <td>0.0</td>\n",
       "      <td>0.0</td>\n",
       "      <td>0.0</td>\n",
       "      <td>0.0</td>\n",
       "      <td>1.0</td>\n",
       "      <td>0.0</td>\n",
       "      <td>1.0</td>\n",
       "    </tr>\n",
       "    <tr>\n",
       "      <th>2</th>\n",
       "      <td>11</td>\n",
       "      <td>60000</td>\n",
       "      <td>17.00</td>\n",
       "      <td>1197</td>\n",
       "      <td>80.00</td>\n",
       "      <td>5</td>\n",
       "      <td>0.0</td>\n",
       "      <td>0.0</td>\n",
       "      <td>0.0</td>\n",
       "      <td>0.0</td>\n",
       "      <td>1.0</td>\n",
       "      <td>0.0</td>\n",
       "      <td>1.0</td>\n",
       "    </tr>\n",
       "    <tr>\n",
       "      <th>3</th>\n",
       "      <td>9</td>\n",
       "      <td>37000</td>\n",
       "      <td>20.92</td>\n",
       "      <td>998</td>\n",
       "      <td>67.10</td>\n",
       "      <td>5</td>\n",
       "      <td>0.0</td>\n",
       "      <td>0.0</td>\n",
       "      <td>0.0</td>\n",
       "      <td>0.0</td>\n",
       "      <td>1.0</td>\n",
       "      <td>0.0</td>\n",
       "      <td>1.0</td>\n",
       "    </tr>\n",
       "    <tr>\n",
       "      <th>4</th>\n",
       "      <td>6</td>\n",
       "      <td>30000</td>\n",
       "      <td>22.77</td>\n",
       "      <td>1498</td>\n",
       "      <td>98.59</td>\n",
       "      <td>5</td>\n",
       "      <td>0.0</td>\n",
       "      <td>1.0</td>\n",
       "      <td>0.0</td>\n",
       "      <td>0.0</td>\n",
       "      <td>0.0</td>\n",
       "      <td>0.0</td>\n",
       "      <td>1.0</td>\n",
       "    </tr>\n",
       "    <tr>\n",
       "      <th>...</th>\n",
       "      <td>...</td>\n",
       "      <td>...</td>\n",
       "      <td>...</td>\n",
       "      <td>...</td>\n",
       "      <td>...</td>\n",
       "      <td>...</td>\n",
       "      <td>...</td>\n",
       "      <td>...</td>\n",
       "      <td>...</td>\n",
       "      <td>...</td>\n",
       "      <td>...</td>\n",
       "      <td>...</td>\n",
       "      <td>...</td>\n",
       "    </tr>\n",
       "    <tr>\n",
       "      <th>15406</th>\n",
       "      <td>9</td>\n",
       "      <td>10723</td>\n",
       "      <td>19.81</td>\n",
       "      <td>1086</td>\n",
       "      <td>68.05</td>\n",
       "      <td>5</td>\n",
       "      <td>0.0</td>\n",
       "      <td>0.0</td>\n",
       "      <td>0.0</td>\n",
       "      <td>0.0</td>\n",
       "      <td>1.0</td>\n",
       "      <td>0.0</td>\n",
       "      <td>1.0</td>\n",
       "    </tr>\n",
       "    <tr>\n",
       "      <th>15407</th>\n",
       "      <td>2</td>\n",
       "      <td>18000</td>\n",
       "      <td>17.50</td>\n",
       "      <td>1373</td>\n",
       "      <td>91.10</td>\n",
       "      <td>7</td>\n",
       "      <td>0.0</td>\n",
       "      <td>0.0</td>\n",
       "      <td>0.0</td>\n",
       "      <td>0.0</td>\n",
       "      <td>1.0</td>\n",
       "      <td>0.0</td>\n",
       "      <td>1.0</td>\n",
       "    </tr>\n",
       "    <tr>\n",
       "      <th>15408</th>\n",
       "      <td>6</td>\n",
       "      <td>67000</td>\n",
       "      <td>21.14</td>\n",
       "      <td>1498</td>\n",
       "      <td>103.52</td>\n",
       "      <td>5</td>\n",
       "      <td>0.0</td>\n",
       "      <td>1.0</td>\n",
       "      <td>0.0</td>\n",
       "      <td>0.0</td>\n",
       "      <td>0.0</td>\n",
       "      <td>0.0</td>\n",
       "      <td>1.0</td>\n",
       "    </tr>\n",
       "    <tr>\n",
       "      <th>15409</th>\n",
       "      <td>5</td>\n",
       "      <td>3800000</td>\n",
       "      <td>16.00</td>\n",
       "      <td>2179</td>\n",
       "      <td>140.00</td>\n",
       "      <td>7</td>\n",
       "      <td>0.0</td>\n",
       "      <td>1.0</td>\n",
       "      <td>0.0</td>\n",
       "      <td>0.0</td>\n",
       "      <td>0.0</td>\n",
       "      <td>0.0</td>\n",
       "      <td>1.0</td>\n",
       "    </tr>\n",
       "    <tr>\n",
       "      <th>15410</th>\n",
       "      <td>2</td>\n",
       "      <td>13000</td>\n",
       "      <td>18.00</td>\n",
       "      <td>1497</td>\n",
       "      <td>117.60</td>\n",
       "      <td>5</td>\n",
       "      <td>0.0</td>\n",
       "      <td>0.0</td>\n",
       "      <td>0.0</td>\n",
       "      <td>0.0</td>\n",
       "      <td>1.0</td>\n",
       "      <td>1.0</td>\n",
       "      <td>0.0</td>\n",
       "    </tr>\n",
       "  </tbody>\n",
       "</table>\n",
       "<p>15411 rows × 13 columns</p>\n",
       "</div>"
      ],
      "text/plain": [
       "       vehicle_age  km_driven  mileage  engine  max_power  seats  \\\n",
       "0                9     120000    19.70     796      46.30      5   \n",
       "1                5      20000    18.90    1197      82.00      5   \n",
       "2               11      60000    17.00    1197      80.00      5   \n",
       "3                9      37000    20.92     998      67.10      5   \n",
       "4                6      30000    22.77    1498      98.59      5   \n",
       "...            ...        ...      ...     ...        ...    ...   \n",
       "15406            9      10723    19.81    1086      68.05      5   \n",
       "15407            2      18000    17.50    1373      91.10      7   \n",
       "15408            6      67000    21.14    1498     103.52      5   \n",
       "15409            5    3800000    16.00    2179     140.00      7   \n",
       "15410            2      13000    18.00    1497     117.60      5   \n",
       "\n",
       "       fuel_type_CNG  fuel_type_Diesel  fuel_type_Electric  fuel_type_LPG  \\\n",
       "0                0.0               0.0                 0.0            0.0   \n",
       "1                0.0               0.0                 0.0            0.0   \n",
       "2                0.0               0.0                 0.0            0.0   \n",
       "3                0.0               0.0                 0.0            0.0   \n",
       "4                0.0               1.0                 0.0            0.0   \n",
       "...              ...               ...                 ...            ...   \n",
       "15406            0.0               0.0                 0.0            0.0   \n",
       "15407            0.0               0.0                 0.0            0.0   \n",
       "15408            0.0               1.0                 0.0            0.0   \n",
       "15409            0.0               1.0                 0.0            0.0   \n",
       "15410            0.0               0.0                 0.0            0.0   \n",
       "\n",
       "       fuel_type_Petrol  transmission_type_Automatic  transmission_type_Manual  \n",
       "0                   1.0                          0.0                       1.0  \n",
       "1                   1.0                          0.0                       1.0  \n",
       "2                   1.0                          0.0                       1.0  \n",
       "3                   1.0                          0.0                       1.0  \n",
       "4                   0.0                          0.0                       1.0  \n",
       "...                 ...                          ...                       ...  \n",
       "15406               1.0                          0.0                       1.0  \n",
       "15407               1.0                          0.0                       1.0  \n",
       "15408               0.0                          0.0                       1.0  \n",
       "15409               0.0                          0.0                       1.0  \n",
       "15410               1.0                          1.0                       0.0  \n",
       "\n",
       "[15411 rows x 13 columns]"
      ]
     },
     "execution_count": 24,
     "metadata": {},
     "output_type": "execute_result"
    }
   ],
   "source": [
    "model_data = pd.get_dummies(model_data,dtype = float)\n",
    "model_data"
   ]
  },
  {
   "cell_type": "code",
   "execution_count": 26,
   "id": "350ae905-c1ba-4500-b6a6-057f1e8360d0",
   "metadata": {},
   "outputs": [
    {
     "data": {
      "text/html": [
       "<div>\n",
       "<style scoped>\n",
       "    .dataframe tbody tr th:only-of-type {\n",
       "        vertical-align: middle;\n",
       "    }\n",
       "\n",
       "    .dataframe tbody tr th {\n",
       "        vertical-align: top;\n",
       "    }\n",
       "\n",
       "    .dataframe thead th {\n",
       "        text-align: right;\n",
       "    }\n",
       "</style>\n",
       "<table border=\"1\" class=\"dataframe\">\n",
       "  <thead>\n",
       "    <tr style=\"text-align: right;\">\n",
       "      <th></th>\n",
       "      <th>vehicle_age</th>\n",
       "      <th>km_driven</th>\n",
       "      <th>mileage</th>\n",
       "      <th>engine</th>\n",
       "      <th>max_power</th>\n",
       "      <th>seats</th>\n",
       "      <th>fuel_type_CNG</th>\n",
       "      <th>fuel_type_Diesel</th>\n",
       "      <th>fuel_type_Electric</th>\n",
       "      <th>fuel_type_LPG</th>\n",
       "      <th>fuel_type_Petrol</th>\n",
       "      <th>transmission_type_Automatic</th>\n",
       "      <th>transmission_type_Manual</th>\n",
       "    </tr>\n",
       "  </thead>\n",
       "  <tbody>\n",
       "    <tr>\n",
       "      <th>0</th>\n",
       "      <td>9</td>\n",
       "      <td>120000</td>\n",
       "      <td>19.70</td>\n",
       "      <td>796</td>\n",
       "      <td>46.30</td>\n",
       "      <td>5</td>\n",
       "      <td>0.0</td>\n",
       "      <td>0.0</td>\n",
       "      <td>0.0</td>\n",
       "      <td>0.0</td>\n",
       "      <td>1.0</td>\n",
       "      <td>0.0</td>\n",
       "      <td>1.0</td>\n",
       "    </tr>\n",
       "    <tr>\n",
       "      <th>1</th>\n",
       "      <td>5</td>\n",
       "      <td>20000</td>\n",
       "      <td>18.90</td>\n",
       "      <td>1197</td>\n",
       "      <td>82.00</td>\n",
       "      <td>5</td>\n",
       "      <td>0.0</td>\n",
       "      <td>0.0</td>\n",
       "      <td>0.0</td>\n",
       "      <td>0.0</td>\n",
       "      <td>1.0</td>\n",
       "      <td>0.0</td>\n",
       "      <td>1.0</td>\n",
       "    </tr>\n",
       "    <tr>\n",
       "      <th>2</th>\n",
       "      <td>11</td>\n",
       "      <td>60000</td>\n",
       "      <td>17.00</td>\n",
       "      <td>1197</td>\n",
       "      <td>80.00</td>\n",
       "      <td>5</td>\n",
       "      <td>0.0</td>\n",
       "      <td>0.0</td>\n",
       "      <td>0.0</td>\n",
       "      <td>0.0</td>\n",
       "      <td>1.0</td>\n",
       "      <td>0.0</td>\n",
       "      <td>1.0</td>\n",
       "    </tr>\n",
       "    <tr>\n",
       "      <th>3</th>\n",
       "      <td>9</td>\n",
       "      <td>37000</td>\n",
       "      <td>20.92</td>\n",
       "      <td>998</td>\n",
       "      <td>67.10</td>\n",
       "      <td>5</td>\n",
       "      <td>0.0</td>\n",
       "      <td>0.0</td>\n",
       "      <td>0.0</td>\n",
       "      <td>0.0</td>\n",
       "      <td>1.0</td>\n",
       "      <td>0.0</td>\n",
       "      <td>1.0</td>\n",
       "    </tr>\n",
       "    <tr>\n",
       "      <th>4</th>\n",
       "      <td>6</td>\n",
       "      <td>30000</td>\n",
       "      <td>22.77</td>\n",
       "      <td>1498</td>\n",
       "      <td>98.59</td>\n",
       "      <td>5</td>\n",
       "      <td>0.0</td>\n",
       "      <td>1.0</td>\n",
       "      <td>0.0</td>\n",
       "      <td>0.0</td>\n",
       "      <td>0.0</td>\n",
       "      <td>0.0</td>\n",
       "      <td>1.0</td>\n",
       "    </tr>\n",
       "    <tr>\n",
       "      <th>...</th>\n",
       "      <td>...</td>\n",
       "      <td>...</td>\n",
       "      <td>...</td>\n",
       "      <td>...</td>\n",
       "      <td>...</td>\n",
       "      <td>...</td>\n",
       "      <td>...</td>\n",
       "      <td>...</td>\n",
       "      <td>...</td>\n",
       "      <td>...</td>\n",
       "      <td>...</td>\n",
       "      <td>...</td>\n",
       "      <td>...</td>\n",
       "    </tr>\n",
       "    <tr>\n",
       "      <th>15406</th>\n",
       "      <td>9</td>\n",
       "      <td>10723</td>\n",
       "      <td>19.81</td>\n",
       "      <td>1086</td>\n",
       "      <td>68.05</td>\n",
       "      <td>5</td>\n",
       "      <td>0.0</td>\n",
       "      <td>0.0</td>\n",
       "      <td>0.0</td>\n",
       "      <td>0.0</td>\n",
       "      <td>1.0</td>\n",
       "      <td>0.0</td>\n",
       "      <td>1.0</td>\n",
       "    </tr>\n",
       "    <tr>\n",
       "      <th>15407</th>\n",
       "      <td>2</td>\n",
       "      <td>18000</td>\n",
       "      <td>17.50</td>\n",
       "      <td>1373</td>\n",
       "      <td>91.10</td>\n",
       "      <td>7</td>\n",
       "      <td>0.0</td>\n",
       "      <td>0.0</td>\n",
       "      <td>0.0</td>\n",
       "      <td>0.0</td>\n",
       "      <td>1.0</td>\n",
       "      <td>0.0</td>\n",
       "      <td>1.0</td>\n",
       "    </tr>\n",
       "    <tr>\n",
       "      <th>15408</th>\n",
       "      <td>6</td>\n",
       "      <td>67000</td>\n",
       "      <td>21.14</td>\n",
       "      <td>1498</td>\n",
       "      <td>103.52</td>\n",
       "      <td>5</td>\n",
       "      <td>0.0</td>\n",
       "      <td>1.0</td>\n",
       "      <td>0.0</td>\n",
       "      <td>0.0</td>\n",
       "      <td>0.0</td>\n",
       "      <td>0.0</td>\n",
       "      <td>1.0</td>\n",
       "    </tr>\n",
       "    <tr>\n",
       "      <th>15409</th>\n",
       "      <td>5</td>\n",
       "      <td>3800000</td>\n",
       "      <td>16.00</td>\n",
       "      <td>2179</td>\n",
       "      <td>140.00</td>\n",
       "      <td>7</td>\n",
       "      <td>0.0</td>\n",
       "      <td>1.0</td>\n",
       "      <td>0.0</td>\n",
       "      <td>0.0</td>\n",
       "      <td>0.0</td>\n",
       "      <td>0.0</td>\n",
       "      <td>1.0</td>\n",
       "    </tr>\n",
       "    <tr>\n",
       "      <th>15410</th>\n",
       "      <td>2</td>\n",
       "      <td>13000</td>\n",
       "      <td>18.00</td>\n",
       "      <td>1497</td>\n",
       "      <td>117.60</td>\n",
       "      <td>5</td>\n",
       "      <td>0.0</td>\n",
       "      <td>0.0</td>\n",
       "      <td>0.0</td>\n",
       "      <td>0.0</td>\n",
       "      <td>1.0</td>\n",
       "      <td>1.0</td>\n",
       "      <td>0.0</td>\n",
       "    </tr>\n",
       "  </tbody>\n",
       "</table>\n",
       "<p>15411 rows × 13 columns</p>\n",
       "</div>"
      ],
      "text/plain": [
       "       vehicle_age  km_driven  mileage  engine  max_power  seats  \\\n",
       "0                9     120000    19.70     796      46.30      5   \n",
       "1                5      20000    18.90    1197      82.00      5   \n",
       "2               11      60000    17.00    1197      80.00      5   \n",
       "3                9      37000    20.92     998      67.10      5   \n",
       "4                6      30000    22.77    1498      98.59      5   \n",
       "...            ...        ...      ...     ...        ...    ...   \n",
       "15406            9      10723    19.81    1086      68.05      5   \n",
       "15407            2      18000    17.50    1373      91.10      7   \n",
       "15408            6      67000    21.14    1498     103.52      5   \n",
       "15409            5    3800000    16.00    2179     140.00      7   \n",
       "15410            2      13000    18.00    1497     117.60      5   \n",
       "\n",
       "       fuel_type_CNG  fuel_type_Diesel  fuel_type_Electric  fuel_type_LPG  \\\n",
       "0                0.0               0.0                 0.0            0.0   \n",
       "1                0.0               0.0                 0.0            0.0   \n",
       "2                0.0               0.0                 0.0            0.0   \n",
       "3                0.0               0.0                 0.0            0.0   \n",
       "4                0.0               1.0                 0.0            0.0   \n",
       "...              ...               ...                 ...            ...   \n",
       "15406            0.0               0.0                 0.0            0.0   \n",
       "15407            0.0               0.0                 0.0            0.0   \n",
       "15408            0.0               1.0                 0.0            0.0   \n",
       "15409            0.0               1.0                 0.0            0.0   \n",
       "15410            0.0               0.0                 0.0            0.0   \n",
       "\n",
       "       fuel_type_Petrol  transmission_type_Automatic  transmission_type_Manual  \n",
       "0                   1.0                          0.0                       1.0  \n",
       "1                   1.0                          0.0                       1.0  \n",
       "2                   1.0                          0.0                       1.0  \n",
       "3                   1.0                          0.0                       1.0  \n",
       "4                   0.0                          0.0                       1.0  \n",
       "...                 ...                          ...                       ...  \n",
       "15406               1.0                          0.0                       1.0  \n",
       "15407               1.0                          0.0                       1.0  \n",
       "15408               0.0                          0.0                       1.0  \n",
       "15409               0.0                          0.0                       1.0  \n",
       "15410               1.0                          1.0                       0.0  \n",
       "\n",
       "[15411 rows x 13 columns]"
      ]
     },
     "execution_count": 26,
     "metadata": {},
     "output_type": "execute_result"
    }
   ],
   "source": [
    "Y = dataset['selling_price']\n",
    "\n",
    "x = pd.get_dummies(model_data,dtype = float)\n",
    "x"
   ]
  },
  {
   "cell_type": "code",
   "execution_count": 30,
   "id": "6b342ccd-7d9d-4446-a8af-147a8153d21b",
   "metadata": {},
   "outputs": [],
   "source": [
    "# train and test \n",
    "\n",
    "from sklearn.model_selection import train_test_split\n",
    "\n",
    "x_train, x_test, y_train, y_test = train_test_split(x,Y,test_size = 0.2)"
   ]
  },
  {
   "cell_type": "markdown",
   "id": "478b0089-1adc-458a-b577-6401e14723df",
   "metadata": {},
   "source": [
    "### Building Model"
   ]
  },
  {
   "cell_type": "code",
   "execution_count": 34,
   "id": "f63a5033-b96a-499c-8a6d-f6031ed0d349",
   "metadata": {},
   "outputs": [
    {
     "data": {
      "text/plain": [
       "array([1192362.58707267, -301850.25597431,  164353.84628655, ...,\n",
       "        717475.66356531,  476738.38838144,  468755.86289213],\n",
       "      shape=(3083,))"
      ]
     },
     "execution_count": 34,
     "metadata": {},
     "output_type": "execute_result"
    }
   ],
   "source": [
    "# Linear regression\n",
    "\n",
    "from sklearn.linear_model import LinearRegression\n",
    "\n",
    "regressor = LinearRegression().fit(x_train,y_train)\n",
    "pred = regressor.predict(x_test)\n",
    "\n",
    "pred"
   ]
  },
  {
   "cell_type": "code",
   "execution_count": null,
   "id": "defdef91-926f-4c39-81cb-f1e666962feb",
   "metadata": {},
   "outputs": [],
   "source": []
  }
 ],
 "metadata": {
  "kernelspec": {
   "display_name": "Python 3 (ipykernel)",
   "language": "python",
   "name": "python3"
  },
  "language_info": {
   "codemirror_mode": {
    "name": "ipython",
    "version": 3
   },
   "file_extension": ".py",
   "mimetype": "text/x-python",
   "name": "python",
   "nbconvert_exporter": "python",
   "pygments_lexer": "ipython3",
   "version": "3.13.1"
  }
 },
 "nbformat": 4,
 "nbformat_minor": 5
}
